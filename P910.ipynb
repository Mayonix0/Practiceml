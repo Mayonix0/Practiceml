{
 "cells": [
  {
   "cell_type": "code",
   "execution_count": 95,
   "metadata": {},
   "outputs": [],
   "source": [
    "from sklearn.datasets import load_iris\n",
    "iris = load_iris()\n",
    "\n",
    "X = iris.data\n",
    "y = iris.target\n",
    "\n",
    "from sklearn.model_selection import train_test_split\n",
    "X_train, X_test, y_train, y_test = train_test_split(X, y, test_size=0.4, random_state=5)\n",
    "\n",
    "X2 = iris.data\n",
    "y2 = iris.target\n",
    "\n",
    "from sklearn.model_selection import train_test_split\n",
    "X_train, X_test, y_train, y_test = train_test_split(X, y, test_size=0.6, random_state=5)\n",
    "\n",
    "X3 = iris.data\n",
    "y3 = iris.target\n",
    "\n",
    "from sklearn.model_selection import train_test_split\n",
    "X_train, X_test, y_train, y_test = train_test_split(X, y, test_size=0.5, random_state=5)\n"
   ]
  },
  {
   "cell_type": "code",
   "execution_count": 96,
   "metadata": {},
   "outputs": [
    {
     "name": "stdout",
     "output_type": "stream",
     "text": [
      "[1 2 2 0 2 1 0 2 0 1 1 2 2 2 0 0 2 2 0 0 1 2 0 1 1 2 1 1 1 2 0 1 1 0 1 0 0\n",
      " 2 0 2 2 1 0 0 1 2 1 2 2 0 2 0 0 0 0 1 1 1 1 2 1 2 2 1 0 1 0 1 2 1 2 1 2 1\n",
      " 1]\n",
      "[1 2 2 0 2 1 0 2 0 1 1 2 2 2 0 0 2 2 0 0 1 2 0 1 1 2 1 1 1 2 0 1 1 0 1 0 0\n",
      " 2 0 2 2 1 0 0 1 2 1 2 2 0 2 0 0 0 0 1 1 1 1 2 1 2 2 1 0 1 0 1 2 1 2 1 2 1\n",
      " 1]\n",
      "[1 2 2 0 2 1 0 2 0 1 1 2 2 2 0 0 2 2 0 0 1 2 0 1 1 2 1 1 1 2 0 1 1 0 1 0 0\n",
      " 2 0 2 2 1 0 0 1 2 1 2 2 0 2 0 0 0 0 1 1 1 1 2 1 2 2 1 0 1 0 2 2 1 2 1 2 1\n",
      " 1]\n"
     ]
    }
   ],
   "source": [
    "# Fitting SVC Classification to the Training set with linear kernel\n",
    "from sklearn.svm import SVC\n",
    "svcclassifier = SVC(kernel = 'linear', random_state = 43)\n",
    "svcclassifier2 = SVC(kernel = 'poly', random_state = 8)\n",
    "svcclassifier3 = SVC(kernel = 'rbf', random_state = 0)\n",
    "\n",
    "\n",
    "svcclassifier.fit(X_train, y_train) \n",
    "svcclassifier2.fit(X_train2, y_train2) \n",
    "svcclassifier3.fit(X_train3, y_train3) \n",
    "\n",
    "# Predicting the Test set results\n",
    "y_pred = svcclassifier.predict(X_test)\n",
    "y_pred2 = svcclassifier2.predict(X_test)\n",
    "y_pred3 = svcclassifier3.predict(X_test)\n",
    "\n",
    "print(y_pred)\n",
    "print(y_pred2)\n",
    "print(y_pred3)\n",
    "\n"
   ]
  },
  {
   "cell_type": "code",
   "execution_count": 97,
   "metadata": {},
   "outputs": [
    {
     "data": {
      "text/plain": [
       "array([[1, 1],\n",
       "       [2, 2],\n",
       "       [2, 2],\n",
       "       [0, 0],\n",
       "       [2, 2]])"
      ]
     },
     "execution_count": 97,
     "metadata": {},
     "output_type": "execute_result"
    }
   ],
   "source": [
    "#lets see the actual and predicted value side by side\n",
    "y_compare = np.vstack((y_test,y_pred)).T\n",
    "y_compare[:5,:]\n",
    "\n",
    "#lets see the actual and predicted value side by side\n",
    "y_compare2 = np.vstack((y_test,y_pred2)).T\n",
    "y_compare[:5,:]\n",
    "\n",
    "#lets see the actual and predicted value side by side\n",
    "y_compare3 = np.vstack((y_test,y_pred3)).T\n",
    "y_compare[:5,:]"
   ]
  },
  {
   "cell_type": "code",
   "execution_count": 98,
   "metadata": {},
   "outputs": [
    {
     "name": "stdout",
     "output_type": "stream",
     "text": [
      "[[22  0  0]\n",
      " [ 0 28  1]\n",
      " [ 0  0 24]]\n",
      "[[22  0  0]\n",
      " [ 0 28  1]\n",
      " [ 0  0 24]]\n",
      "[[22  0  0]\n",
      " [ 0 28  1]\n",
      " [ 0  0 24]]\n"
     ]
    }
   ],
   "source": [
    "# Making the Confusion Matrix\n",
    "from sklearn.metrics import confusion_matrix\n",
    "cm = confusion_matrix(y_test, y_pred)\n",
    "print(cm)\n",
    "\n",
    "cm2 = confusion_matrix(y_test, y_pred2)\n",
    "print(cm)\n",
    "\n",
    "cm3 = confusion_matrix(y_test, y_pred3)\n",
    "print(cm)"
   ]
  },
  {
   "cell_type": "code",
   "execution_count": 99,
   "metadata": {},
   "outputs": [
    {
     "name": "stdout",
     "output_type": "stream",
     "text": [
      "Correct predictions:  74\n",
      "False predictions 1\n",
      "Accuracy of the SVC Clasification is:  0.9866666666666667\n",
      "Correct predictions:  74\n",
      "False predictions 1\n",
      "Accuracy of the SVC Clasification is:  0.9866666666666667\n",
      "Correct predictions:  73\n",
      "False predictions 2\n",
      "Accuracy of the SVC Clasification is:  0.9733333333333334\n"
     ]
    }
   ],
   "source": [
    "#finding accuracy from the confusion matrix.\n",
    "a = cm.shape\n",
    "corrPred = 0\n",
    "falsePred = 0\n",
    "\n",
    "for row in range(a[0]):\n",
    "    for c in range(a[1]):\n",
    "        if row == c:\n",
    "            corrPred +=cm[row,c]\n",
    "        else:\n",
    "            falsePred += cm[row,c]\n",
    "print('Correct predictions: ', corrPred)\n",
    "print('False predictions', falsePred)\n",
    "kernelLinearAccuracy = corrPred/(cm.sum())\n",
    "print ('Accuracy of the SVC Clasification is: ', corrPred/(cm.sum()))  \n",
    "\n",
    "\n",
    "#finding accuracy from the confusion matrix.\n",
    "a = cm.shape\n",
    "corrPred = 0\n",
    "falsePred = 0\n",
    "\n",
    "for row in range(a[0]):\n",
    "    for c in range(a[1]):\n",
    "        if row == c:\n",
    "            corrPred +=cm2[row,c]\n",
    "        else:\n",
    "            falsePred += cm2[row,c]\n",
    "print('Correct predictions: ', corrPred)\n",
    "print('False predictions', falsePred)\n",
    "kernelLinearAccuracy = corrPred/(cm2.sum())\n",
    "print ('Accuracy of the SVC Clasification is: ', corrPred/(cm2.sum()))  \n",
    "\n",
    "\n",
    "#finding accuracy from the confusion matrix.\n",
    "a = cm.shape\n",
    "corrPred = 0\n",
    "falsePred = 0\n",
    "\n",
    "for row in range(a[0]):\n",
    "    for c in range(a[1]):\n",
    "        if row == c:\n",
    "            corrPred +=cm3[row,c]\n",
    "        else:\n",
    "            falsePred += cm3[row,c]\n",
    "print('Correct predictions: ', corrPred)\n",
    "print('False predictions', falsePred)\n",
    "kernelLinearAccuracy = corrPred/(cm3.sum())\n",
    "print ('Accuracy of the SVC Clasification is: ', corrPred/(cm3.sum()))  "
   ]
  }
 ],
 "metadata": {
  "kernelspec": {
   "display_name": "Python 3",
   "language": "python",
   "name": "python3"
  },
  "language_info": {
   "codemirror_mode": {
    "name": "ipython",
    "version": 3
   },
   "file_extension": ".py",
   "mimetype": "text/x-python",
   "name": "python",
   "nbconvert_exporter": "python",
   "pygments_lexer": "ipython3",
   "version": "3.11.4"
  },
  "orig_nbformat": 4
 },
 "nbformat": 4,
 "nbformat_minor": 2
}
