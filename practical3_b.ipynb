{
 "cells": [
  {
   "cell_type": "code",
   "execution_count": 54,
   "id": "58c6f068",
   "metadata": {},
   "outputs": [],
   "source": [
    "import numpy as np\n",
    "from sklearn import datasets, metrics\n",
    "import matplotlib.pyplot as plt\n",
    "from numpy.linalg import inv,pinv,LinAlgError\n",
    "# Set random seed for reproducibility\n",
    "np.random.seed(0)\n",
    "# Generate random input features X (100 samples)\n",
    "X=3*np.random.rand(100,1)\n",
    "# Generate target values y based on a linear relationship with noise\n",
    "# y = 5 + 2 * X + noise\n",
    "y=5+2*X+np.random.randn(100,1)"
   ]
  },
  {
   "cell_type": "code",
   "execution_count": 25,
   "id": "9a9406b9",
   "metadata": {
    "scrolled": false
   },
   "outputs": [
    {
     "data": {
      "image/png": "[encoded data removed]",
      "text/plain": [
       "<Figure size 432x288 with 1 Axes>"
      ]
     },
     "metadata": {
      "needs_background": "light"
     },
     "output_type": "display_data"
    }
   ],
   "source": [
    "plt.plot(X,y,\"bo\")\n",
    "plt.xlabel(\"X\")\n",
    "plt.ylabel(\"Y\")\n",
    "plt.show()"
   ]
  },
  {
   "cell_type": "code",
   "execution_count": 26,
   "id": "46d0c157",
   "metadata": {},
   "outputs": [],
   "source": [
    "X_p=np.c_[np.ones((100,1)),X]"
   ]
  },
  {
   "cell_type": "code",
   "execution_count": 27,
   "id": "b095d179",
   "metadata": {},
   "outputs": [
    {
     "data": {
      "text/plain": [
       "(100, 2)"
      ]
     },
     "execution_count": 27,
     "metadata": {},
     "output_type": "execute_result"
    }
   ],
   "source": [
    "X_p.shape"
   ]
  },
  {
   "cell_type": "code",
   "execution_count": 28,
   "id": "4e0b685a",
   "metadata": {},
   "outputs": [],
   "source": [
    "theta_hat=np.linalg.inv(X_p.T.dot(X_p)).dot(X_p.T).dot(y)"
   ]
  },
  {
   "cell_type": "code",
   "execution_count": 29,
   "id": "d561a69d",
   "metadata": {},
   "outputs": [
    {
     "data": {
      "text/plain": [
       "array([[5.22215108],\n",
       "       [1.97897834]])"
      ]
     },
     "execution_count": 29,
     "metadata": {},
     "output_type": "execute_result"
    }
   ],
   "source": [
    "theta_hat"
   ]
  },
  {
   "cell_type": "code",
   "execution_count": 30,
   "id": "997d5689",
   "metadata": {},
   "outputs": [
    {
     "data": {
      "text/plain": [
       "array([[ 5.22215108],\n",
       "       [28.96989116]])"
      ]
     },
     "execution_count": 30,
     "metadata": {},
     "output_type": "execute_result"
    }
   ],
   "source": [
    "X_test=np.array([[0],[12]])\n",
    "X_test_p=np.c_[np.ones((2,1)),X_test]\n",
    "y_predict=X_test_p.dot(theta_hat)\n",
    "y_predict"
   ]
  },
  {
   "cell_type": "code",
   "execution_count": 41,
   "id": "4701d1dd",
   "metadata": {},
   "outputs": [
    {
     "data": {
      "image/png": "[encoded data removed]",
      "text/plain": [
       "<Figure size 432x288 with 1 Axes>"
      ]
     },
     "metadata": {
      "needs_background": "light"
     },
     "output_type": "display_data"
    }
   ],
   "source": [
    "plt.plot(X_test,y_predict,c=\"orange\",label=\"Regression Line\")\n",
    "plt.plot(X,y,\"bo\",label=\"data points\")\n",
    "plt.legend()\n",
    "plt.xlabel(\"X\")\n",
    "plt.ylabel(\"Y\")\n",
    "plt.title(\"Linear Regression with normal equation\")\n",
    "plt.xlim(0,3)\n",
    "plt.ylim(0,12)\n",
    "plt.show()"
   ]
  },
  {
   "cell_type": "code",
   "execution_count": 74,
   "id": "a0bb28ad",
   "metadata": {},
   "outputs": [
    {
     "name": "stdout",
     "output_type": "stream",
     "text": [
      "[[6.32000e-03 1.80000e+01 2.31000e+00 ... 1.53000e+01 3.96900e+02\n",
      "  4.98000e+00]\n",
      " [2.73100e-02 0.00000e+00 7.07000e+00 ... 1.78000e+01 3.96900e+02\n",
      "  9.14000e+00]\n",
      " [2.72900e-02 0.00000e+00 7.07000e+00 ... 1.78000e+01 3.92830e+02\n",
      "  4.03000e+00]\n",
      " ...\n",
      " [7.67202e+00 0.00000e+00 1.81000e+01 ... 2.02000e+01 3.93100e+02\n",
      "  1.99200e+01]\n",
      " [3.83518e+01 0.00000e+00 1.81000e+01 ... 2.02000e+01 3.96900e+02\n",
      "  3.05900e+01]\n",
      " [9.91655e+00 0.00000e+00 1.81000e+01 ... 2.02000e+01 3.38160e+02\n",
      "  2.99700e+01]]\n"
     ]
    }
   ],
   "source": [
    "#Multiple Linear Regression with Normal equation\n",
    "X,y=datasets.load_boston(return_X_y=True)\n",
    "X_train_temp1=X[0:400,:]\n",
    "print(X_train_temp1)\n",
    "X_train=np.zeros((X_train_temp1.shape[0],X_train_temp1.shape[1]+1))\n",
    "X_train[:,0]=np.ones((X_train_temp1.shape[0]))\n",
    "X_train[:,1:]=X_train_temp1\n",
    "y_train=y[0:400]\n",
    "#test\n",
    "X_test_temp1=X[400:506,:]\n",
    "X_test=np.zeros((X_test_temp1.shape[0],X_test_temp1.shape[1]+1))\n",
    "X_test[:,0]=np.ones((X_test_temp1.shape[0]))\n",
    "X_test[:,1:]=X_test_temp1\n",
    "y_test=y[400:506]\n"
   ]
  },
  {
   "cell_type": "code",
   "execution_count": 75,
   "id": "32c30424",
   "metadata": {},
   "outputs": [],
   "source": [
    "from sklearn import metrics\n",
    "theta=np.zeros(X_train.shape[1])\n",
    "try :\n",
    "    XTXi=inv(np.dot(X_train.T,X_train))\n",
    "except LinAlgError:\n",
    "    XTXi=pinv(np.dot(X_train.T,X_train))"
   ]
  },
  {
   "cell_type": "code",
   "execution_count": 76,
   "id": "4eb16d3f",
   "metadata": {},
   "outputs": [],
   "source": [
    "XTy=np.dot(X_train.T,y_train)"
   ]
  },
  {
   "cell_type": "code",
   "execution_count": 77,
   "id": "b9e651e1",
   "metadata": {},
   "outputs": [],
   "source": [
    "theta=np.dot(XTXi,XTy)"
   ]
  },
  {
   "cell_type": "code",
   "execution_count": 78,
   "id": "9597aa59",
   "metadata": {},
   "outputs": [
    {
     "name": "stdout",
     "output_type": "stream",
     "text": [
      "[ 2.86725996e+01 -1.91246374e-01  4.42289967e-02  5.52207977e-02\n",
      "  1.71631351e+00 -1.49957220e+01  4.88773025e+00  2.60921031e-03\n",
      " -1.29480799e+00  4.84787214e-01 -1.54006673e-02 -8.08795026e-01\n",
      " -1.29230427e-03 -5.17953791e-01]\n"
     ]
    }
   ],
   "source": [
    "print(theta)"
   ]
  },
  {
   "cell_type": "code",
   "execution_count": 79,
   "id": "ce858961",
   "metadata": {},
   "outputs": [
    {
     "name": "stdout",
     "output_type": "stream",
     "text": [
      "(14,)\n"
     ]
    }
   ],
   "source": [
    "print(theta.shape)"
   ]
  },
  {
   "cell_type": "code",
   "execution_count": 80,
   "id": "5ca63ee4",
   "metadata": {},
   "outputs": [],
   "source": [
    "predictions=np.dot(theta,X_test.T)"
   ]
  },
  {
   "cell_type": "code",
   "execution_count": 81,
   "id": "d385f92e",
   "metadata": {},
   "outputs": [
    {
     "name": "stdout",
     "output_type": "stream",
     "text": [
      "MAE 5.142232214464412\n",
      "MSE: 37.89377859958787\n"
     ]
    }
   ],
   "source": [
    "print(\"MAE\",metrics.mean_absolute_error(y_true=y_test,y_pred=predictions))\n",
    "print(\"MSE:\",metrics.mean_squared_error(y_true=y_test,y_pred=predictions))"
   ]
  }
 ],
 "metadata": {
  "kernelspec": {
   "display_name": "Python 3 (ipykernel)",
   "language": "python",
   "name": "python3"
  },
  "language_info": {
   "codemirror_mode": {
    "name": "ipython",
    "version": 3
   },
   "file_extension": ".py",
   "mimetype": "text/x-python",
   "name": "python",
   "nbconvert_exporter": "python",
   "pygments_lexer": "ipython3",
   "version": "3.9.7"
  }
 },
 "nbformat": 4,
 "nbformat_minor": 5
}
